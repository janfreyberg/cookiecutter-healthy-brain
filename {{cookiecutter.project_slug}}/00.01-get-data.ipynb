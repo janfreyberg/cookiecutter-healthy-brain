{
 "cells": [
  {
   "cell_type": "markdown",
   "metadata": {},
   "source": [
    "# Download & Extract Data\n",
    "\n",
    "One of the key things you need to set up in this project is the variable `datafolder` in [data/\\_\\_init\\_\\_.py](data/__init__.py). This will be where the data is stored. The data should be in the same format as it is on the CMI servers: each subject has their own folder, with the subfolders `EEG` and `Behaviour`.\n",
    "\n",
    "In this notebook, you can download the data and extract it, but it is __really important__ that you set the variable `datafolder` to something sensible where you want your data to be stored.\n",
    "\n",
    "---"
   ]
  },
  {
   "cell_type": "markdown",
   "metadata": {},
   "source": [
    "# EEG Data\n"
   ]
  },
  {
   "cell_type": "markdown",
   "metadata": {},
   "source": [
    "## Download the archives\n",
    "\n",
    "The data lies on an amazon S3 bucket, and with the `boto3` package we can download the data from there. This project includes a [data/download.py](data/download.py) file that will download the data for you.\n",
    "\n",
    "There are three functions in there:\n",
    "\n",
    "`download_all()`: this will literally download all the data. Since this takes a long time, you may want to start with the next function instead.\n",
    "\n",
    "`download_sample(n=10)`: this will download a random dataset for you. Specifying n=1 will only download one random data set for you.\n",
    "\n",
    "`extract_all(delete_archives=True)`: this will simply extract all the `.tar.gz` files in the `datafolder` for you. If you set `delete_archives=False`, it will keep the archives, otherwise it will delete them (default).\n",
    "\n",
    "---"
   ]
  },
  {
   "cell_type": "markdown",
   "metadata": {},
   "source": [
    "## Download random data\n",
    "\n",
    "Run the next cell to download 5 datasets. This means you can get started working on your analysis."
   ]
  },
  {
   "cell_type": "code",
   "execution_count": null,
   "metadata": {
    "collapsed": true
   },
   "outputs": [],
   "source": [
    "from data.download import download_sample_eeg, extract_all\n",
    "\n",
    "download_sample_eeg(n=1)\n",
    "\n",
    "extract_all()"
   ]
  },
  {
   "cell_type": "markdown",
   "metadata": {},
   "source": [
    "---\n",
    "\n",
    "## Download all data\n",
    "\n",
    "Run the next cell if you want to download all the data out there :)"
   ]
  },
  {
   "cell_type": "code",
   "execution_count": null,
   "metadata": {
    "collapsed": true
   },
   "outputs": [],
   "source": [
    "from data.download import download_all_eeg, extract_all\n",
    "\n",
    "download_all_eeg()\n",
    "\n",
    "extract_all()"
   ]
  },
  {
   "cell_type": "markdown",
   "metadata": {},
   "source": [
    "# MRI"
   ]
  },
  {
   "cell_type": "markdown",
   "metadata": {},
   "source": [
    "## Download random data"
   ]
  },
  {
   "cell_type": "code",
   "execution_count": null,
   "metadata": {},
   "outputs": [],
   "source": [
    "from data.download import download_sample_mri, extract_all\n",
    "\n",
    "download_sample_mri(n=1)\n",
    "extract_all(delete_archives=False)"
   ]
  },
  {
   "cell_type": "markdown",
   "metadata": {},
   "source": [
    "## Download all data"
   ]
  },
  {
   "cell_type": "code",
   "execution_count": null,
   "metadata": {},
   "outputs": [],
   "source": [
    "from data.download import download_all_mri, extract_all\n",
    "\n",
    "download_all_mri(n=1)\n",
    "extract_all(delete_archives=False)"
   ]
  }
 ],
 "metadata": {
  "kernelspec": {
   "display_name": "Python 3",
   "language": "python",
   "name": "python3"
  },
  "language_info": {
   "codemirror_mode": {
    "name": "ipython",
    "version": 3
   },
   "file_extension": ".py",
   "mimetype": "text/x-python",
   "name": "python",
   "nbconvert_exporter": "python",
   "pygments_lexer": "ipython3",
   "version": "3.6.1"
  }
 },
 "nbformat": 4,
 "nbformat_minor": 2
}
